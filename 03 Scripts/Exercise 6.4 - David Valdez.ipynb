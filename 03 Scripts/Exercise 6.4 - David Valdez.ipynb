{
 "cells": [
  {
   "cell_type": "markdown",
   "id": "28596bf6",
   "metadata": {},
   "source": [
    "## 6.4 Machine Learning Part 1"
   ]
  },
  {
   "cell_type": "markdown",
   "id": "121a8308",
   "metadata": {},
   "source": [
    "This script contains the following:\n",
    "1. Importing libraries and data\n",
    "2. Data cleaning\n",
    "3. Data prep for regression analysis\n",
    "4. Regression analysis\n",
    "Bonus: performance improvement after removing outliers"
   ]
  },
  {
   "cell_type": "markdown",
   "id": "b41dc115",
   "metadata": {},
   "source": [
    "### 1. Importing libraries and data"
   ]
  },
  {
   "cell_type": "code",
   "execution_count": 1,
   "id": "87e53d33",
   "metadata": {},
   "outputs": [],
   "source": [
    "import pandas as pd\n",
    "import numpy as np\n",
    "import seaborn as sns\n",
    "import matplotlib\n",
    "import matplotlib.pyplot as plt\n",
    "import os\n",
    "import sklearn\n",
    "from sklearn.model_selection import train_test_split \n",
    "from sklearn.linear_model import LinearRegression\n",
    "from sklearn.metrics import mean_squared_error, r2_score"
   ]
  },
  {
   "cell_type": "code",
   "execution_count": 2,
   "id": "a9d09027",
   "metadata": {},
   "outputs": [],
   "source": [
    "# This option ensures that the graphs you create are displayed within the notebook without the need to \"call\" them specifically.\n",
    "\n",
    "%matplotlib inline"
   ]
  },
  {
   "cell_type": "code",
   "execution_count": 3,
   "id": "f80c8dd3",
   "metadata": {},
   "outputs": [],
   "source": [
    "path = r'C:\\Users\\djval\\Google Drive\\Career\\Career Foundry\\Data Immerson\\Achievement 6'"
   ]
  },
  {
   "cell_type": "code",
   "execution_count": 4,
   "id": "ef35d172",
   "metadata": {},
   "outputs": [
    {
     "data": {
      "text/plain": [
       "'C:\\\\Users\\\\djval\\\\Google Drive\\\\Career\\\\Career Foundry\\\\Data Immerson\\\\Achievement 6'"
      ]
     },
     "execution_count": 4,
     "metadata": {},
     "output_type": "execute_result"
    }
   ],
   "source": [
    "path"
   ]
  },
  {
   "cell_type": "code",
   "execution_count": 5,
   "id": "2fd04880",
   "metadata": {},
   "outputs": [],
   "source": [
    "df = pd.read_csv(os.path.join(path,'Exercise 6.1','Datasets','country - Main dataset - 3.csv'))"
   ]
  },
  {
   "cell_type": "markdown",
   "id": "ecff0113",
   "metadata": {},
   "source": [
    "### 2. Data cleaning"
   ]
  },
  {
   "cell_type": "code",
   "execution_count": 6,
   "id": "0e3a17ca",
   "metadata": {},
   "outputs": [
    {
     "data": {
      "text/plain": [
       "Index(['CTYNAME', 'year', 'CTY_CODE', 'IYR', 'EYR', 'Trade_deficit',\n",
       "       'Unemployment_rate'],\n",
       "      dtype='object')"
      ]
     },
     "execution_count": 6,
     "metadata": {},
     "output_type": "execute_result"
    }
   ],
   "source": [
    "df.columns"
   ]
  },
  {
   "cell_type": "code",
   "execution_count": 7,
   "id": "e557fd56",
   "metadata": {},
   "outputs": [
    {
     "data": {
      "text/html": [
       "<div>\n",
       "<style scoped>\n",
       "    .dataframe tbody tr th:only-of-type {\n",
       "        vertical-align: middle;\n",
       "    }\n",
       "\n",
       "    .dataframe tbody tr th {\n",
       "        vertical-align: top;\n",
       "    }\n",
       "\n",
       "    .dataframe thead th {\n",
       "        text-align: right;\n",
       "    }\n",
       "</style>\n",
       "<table border=\"1\" class=\"dataframe\">\n",
       "  <thead>\n",
       "    <tr style=\"text-align: right;\">\n",
       "      <th></th>\n",
       "      <th>CTYNAME</th>\n",
       "      <th>year</th>\n",
       "      <th>CTY_CODE</th>\n",
       "      <th>IYR</th>\n",
       "      <th>EYR</th>\n",
       "      <th>Trade_deficit</th>\n",
       "      <th>Unemployment_rate</th>\n",
       "    </tr>\n",
       "  </thead>\n",
       "  <tbody>\n",
       "    <tr>\n",
       "      <th>0</th>\n",
       "      <td>World, Seasonally Adjusted</td>\n",
       "      <td>2021</td>\n",
       "      <td>4</td>\n",
       "      <td>2579465.677</td>\n",
       "      <td>1594693.680</td>\n",
       "      <td>984771.997</td>\n",
       "      <td>5.358333</td>\n",
       "    </tr>\n",
       "    <tr>\n",
       "      <th>1</th>\n",
       "      <td>World, Not Seasonally Adjusted</td>\n",
       "      <td>2021</td>\n",
       "      <td>15</td>\n",
       "      <td>2575023.560</td>\n",
       "      <td>1595320.535</td>\n",
       "      <td>979703.025</td>\n",
       "      <td>5.358333</td>\n",
       "    </tr>\n",
       "    <tr>\n",
       "      <th>2</th>\n",
       "      <td>World, Seasonally Adjusted</td>\n",
       "      <td>2018</td>\n",
       "      <td>4</td>\n",
       "      <td>2536145.274</td>\n",
       "      <td>1665786.887</td>\n",
       "      <td>870358.387</td>\n",
       "      <td>3.891667</td>\n",
       "    </tr>\n",
       "    <tr>\n",
       "      <th>3</th>\n",
       "      <td>World, Not Seasonally Adjusted</td>\n",
       "      <td>2018</td>\n",
       "      <td>15</td>\n",
       "      <td>2536145.274</td>\n",
       "      <td>1665786.887</td>\n",
       "      <td>870358.387</td>\n",
       "      <td>3.891667</td>\n",
       "    </tr>\n",
       "    <tr>\n",
       "      <th>4</th>\n",
       "      <td>World, Seasonally Adjusted</td>\n",
       "      <td>2019</td>\n",
       "      <td>4</td>\n",
       "      <td>2493737.709</td>\n",
       "      <td>1642820.352</td>\n",
       "      <td>850917.357</td>\n",
       "      <td>3.675000</td>\n",
       "    </tr>\n",
       "    <tr>\n",
       "      <th>5</th>\n",
       "      <td>World, Not Seasonally Adjusted</td>\n",
       "      <td>2019</td>\n",
       "      <td>15</td>\n",
       "      <td>2493737.709</td>\n",
       "      <td>1642820.352</td>\n",
       "      <td>850917.357</td>\n",
       "      <td>3.675000</td>\n",
       "    </tr>\n",
       "    <tr>\n",
       "      <th>6</th>\n",
       "      <td>World, Seasonally Adjusted</td>\n",
       "      <td>2014</td>\n",
       "      <td>4</td>\n",
       "      <td>2356356.072</td>\n",
       "      <td>1621873.793</td>\n",
       "      <td>734482.279</td>\n",
       "      <td>6.158333</td>\n",
       "    </tr>\n",
       "    <tr>\n",
       "      <th>7</th>\n",
       "      <td>World, Not Seasonally Adjusted</td>\n",
       "      <td>2014</td>\n",
       "      <td>15</td>\n",
       "      <td>2356356.072</td>\n",
       "      <td>1621873.793</td>\n",
       "      <td>734482.279</td>\n",
       "      <td>6.158333</td>\n",
       "    </tr>\n",
       "    <tr>\n",
       "      <th>8</th>\n",
       "      <td>World, Seasonally Adjusted</td>\n",
       "      <td>2017</td>\n",
       "      <td>4</td>\n",
       "      <td>2339592.000</td>\n",
       "      <td>1547196.000</td>\n",
       "      <td>792396.000</td>\n",
       "      <td>4.358333</td>\n",
       "    </tr>\n",
       "    <tr>\n",
       "      <th>9</th>\n",
       "      <td>World, Not Seasonally Adjusted</td>\n",
       "      <td>2017</td>\n",
       "      <td>15</td>\n",
       "      <td>2339591.330</td>\n",
       "      <td>1547195.403</td>\n",
       "      <td>792395.927</td>\n",
       "      <td>4.358333</td>\n",
       "    </tr>\n",
       "    <tr>\n",
       "      <th>10</th>\n",
       "      <td>World, Seasonally Adjusted</td>\n",
       "      <td>2020</td>\n",
       "      <td>4</td>\n",
       "      <td>2335990.970</td>\n",
       "      <td>1424934.919</td>\n",
       "      <td>911056.051</td>\n",
       "      <td>8.091667</td>\n",
       "    </tr>\n",
       "    <tr>\n",
       "      <th>11</th>\n",
       "      <td>World, Not Seasonally Adjusted</td>\n",
       "      <td>2020</td>\n",
       "      <td>15</td>\n",
       "      <td>2335990.970</td>\n",
       "      <td>1424934.919</td>\n",
       "      <td>911056.051</td>\n",
       "      <td>8.091667</td>\n",
       "    </tr>\n",
       "    <tr>\n",
       "      <th>12</th>\n",
       "      <td>World, Seasonally Adjusted</td>\n",
       "      <td>2012</td>\n",
       "      <td>4</td>\n",
       "      <td>2276267.147</td>\n",
       "      <td>1545820.840</td>\n",
       "      <td>730446.307</td>\n",
       "      <td>8.075000</td>\n",
       "    </tr>\n",
       "    <tr>\n",
       "      <th>13</th>\n",
       "      <td>World, Not Seasonally Adjusted</td>\n",
       "      <td>2012</td>\n",
       "      <td>15</td>\n",
       "      <td>2276267.147</td>\n",
       "      <td>1545820.840</td>\n",
       "      <td>730446.307</td>\n",
       "      <td>8.075000</td>\n",
       "    </tr>\n",
       "    <tr>\n",
       "      <th>14</th>\n",
       "      <td>World, Seasonally Adjusted</td>\n",
       "      <td>2013</td>\n",
       "      <td>4</td>\n",
       "      <td>2267986.734</td>\n",
       "      <td>1578516.880</td>\n",
       "      <td>689469.854</td>\n",
       "      <td>7.358333</td>\n",
       "    </tr>\n",
       "    <tr>\n",
       "      <th>15</th>\n",
       "      <td>World, Not Seasonally Adjusted</td>\n",
       "      <td>2013</td>\n",
       "      <td>15</td>\n",
       "      <td>2267986.734</td>\n",
       "      <td>1578516.880</td>\n",
       "      <td>689469.854</td>\n",
       "      <td>7.358333</td>\n",
       "    </tr>\n",
       "    <tr>\n",
       "      <th>16</th>\n",
       "      <td>World, Seasonally Adjusted</td>\n",
       "      <td>2015</td>\n",
       "      <td>4</td>\n",
       "      <td>2248811.352</td>\n",
       "      <td>1503328.350</td>\n",
       "      <td>745483.002</td>\n",
       "      <td>5.275000</td>\n",
       "    </tr>\n",
       "    <tr>\n",
       "      <th>17</th>\n",
       "      <td>World, Not Seasonally Adjusted</td>\n",
       "      <td>2015</td>\n",
       "      <td>15</td>\n",
       "      <td>2248811.351</td>\n",
       "      <td>1503328.350</td>\n",
       "      <td>745483.001</td>\n",
       "      <td>5.275000</td>\n",
       "    </tr>\n",
       "    <tr>\n",
       "      <th>18</th>\n",
       "      <td>World, Not Seasonally Adjusted</td>\n",
       "      <td>2011</td>\n",
       "      <td>15</td>\n",
       "      <td>2207954.346</td>\n",
       "      <td>1482507.755</td>\n",
       "      <td>725446.591</td>\n",
       "      <td>8.933333</td>\n",
       "    </tr>\n",
       "    <tr>\n",
       "      <th>19</th>\n",
       "      <td>World, Seasonally Adjusted</td>\n",
       "      <td>2011</td>\n",
       "      <td>4</td>\n",
       "      <td>2207954.000</td>\n",
       "      <td>1482507.000</td>\n",
       "      <td>725447.000</td>\n",
       "      <td>8.933333</td>\n",
       "    </tr>\n",
       "  </tbody>\n",
       "</table>\n",
       "</div>"
      ],
      "text/plain": [
       "                           CTYNAME  year  CTY_CODE          IYR          EYR  \\\n",
       "0       World, Seasonally Adjusted  2021         4  2579465.677  1594693.680   \n",
       "1   World, Not Seasonally Adjusted  2021        15  2575023.560  1595320.535   \n",
       "2       World, Seasonally Adjusted  2018         4  2536145.274  1665786.887   \n",
       "3   World, Not Seasonally Adjusted  2018        15  2536145.274  1665786.887   \n",
       "4       World, Seasonally Adjusted  2019         4  2493737.709  1642820.352   \n",
       "5   World, Not Seasonally Adjusted  2019        15  2493737.709  1642820.352   \n",
       "6       World, Seasonally Adjusted  2014         4  2356356.072  1621873.793   \n",
       "7   World, Not Seasonally Adjusted  2014        15  2356356.072  1621873.793   \n",
       "8       World, Seasonally Adjusted  2017         4  2339592.000  1547196.000   \n",
       "9   World, Not Seasonally Adjusted  2017        15  2339591.330  1547195.403   \n",
       "10      World, Seasonally Adjusted  2020         4  2335990.970  1424934.919   \n",
       "11  World, Not Seasonally Adjusted  2020        15  2335990.970  1424934.919   \n",
       "12      World, Seasonally Adjusted  2012         4  2276267.147  1545820.840   \n",
       "13  World, Not Seasonally Adjusted  2012        15  2276267.147  1545820.840   \n",
       "14      World, Seasonally Adjusted  2013         4  2267986.734  1578516.880   \n",
       "15  World, Not Seasonally Adjusted  2013        15  2267986.734  1578516.880   \n",
       "16      World, Seasonally Adjusted  2015         4  2248811.352  1503328.350   \n",
       "17  World, Not Seasonally Adjusted  2015        15  2248811.351  1503328.350   \n",
       "18  World, Not Seasonally Adjusted  2011        15  2207954.346  1482507.755   \n",
       "19      World, Seasonally Adjusted  2011         4  2207954.000  1482507.000   \n",
       "\n",
       "    Trade_deficit  Unemployment_rate  \n",
       "0      984771.997           5.358333  \n",
       "1      979703.025           5.358333  \n",
       "2      870358.387           3.891667  \n",
       "3      870358.387           3.891667  \n",
       "4      850917.357           3.675000  \n",
       "5      850917.357           3.675000  \n",
       "6      734482.279           6.158333  \n",
       "7      734482.279           6.158333  \n",
       "8      792396.000           4.358333  \n",
       "9      792395.927           4.358333  \n",
       "10     911056.051           8.091667  \n",
       "11     911056.051           8.091667  \n",
       "12     730446.307           8.075000  \n",
       "13     730446.307           8.075000  \n",
       "14     689469.854           7.358333  \n",
       "15     689469.854           7.358333  \n",
       "16     745483.002           5.275000  \n",
       "17     745483.001           5.275000  \n",
       "18     725446.591           8.933333  \n",
       "19     725447.000           8.933333  "
      ]
     },
     "execution_count": 7,
     "metadata": {},
     "output_type": "execute_result"
    }
   ],
   "source": [
    "df.head(20)"
   ]
  },
  {
   "cell_type": "code",
   "execution_count": 8,
   "id": "6898e88b",
   "metadata": {},
   "outputs": [
    {
     "data": {
      "text/plain": [
       "(7981, 7)"
      ]
     },
     "execution_count": 8,
     "metadata": {},
     "output_type": "execute_result"
    }
   ],
   "source": [
    "df.shape"
   ]
  },
  {
   "cell_type": "code",
   "execution_count": 10,
   "id": "29f0456a",
   "metadata": {},
   "outputs": [
    {
     "data": {
      "text/plain": [
       "CTYNAME              0\n",
       "year                 0\n",
       "CTY_CODE             0\n",
       "IYR                  0\n",
       "EYR                  0\n",
       "Trade_deficit        0\n",
       "Unemployment_rate    0\n",
       "dtype: int64"
      ]
     },
     "execution_count": 10,
     "metadata": {},
     "output_type": "execute_result"
    }
   ],
   "source": [
    "# Check for missing values\n",
    "\n",
    "df.isnull().sum() # No missing values to handle"
   ]
  },
  {
   "cell_type": "markdown",
   "id": "c2ecd87d",
   "metadata": {},
   "source": [
    "##### Duplicates check"
   ]
  },
  {
   "cell_type": "code",
   "execution_count": 12,
   "id": "c57181ba",
   "metadata": {},
   "outputs": [],
   "source": [
    "dups = df.duplicated()"
   ]
  },
  {
   "cell_type": "code",
   "execution_count": 13,
   "id": "4aa3905e",
   "metadata": {},
   "outputs": [
    {
     "data": {
      "text/plain": [
       "(7981,)"
      ]
     },
     "execution_count": 13,
     "metadata": {},
     "output_type": "execute_result"
    }
   ],
   "source": [
    "dups.shape # No dups"
   ]
  },
  {
   "cell_type": "code",
   "execution_count": 17,
   "id": "7f93788d",
   "metadata": {},
   "outputs": [],
   "source": [
    "# Creating subset for South and Central America which has one of the biggest % increase of US imports from 2020 to 2021\n",
    "\n",
    "df_south_central_am = df[df['CTYNAME'].isin([\"Brazil\",\"Argentina\",\"Colombia\",\"Peru\",\"Chile\",\"Ecuador\",\"Venezuela\",\"Bolivia\",\"Uruguay\",\"Guyana\",\"Paraguay\",\"Suriname\",\"Belize\",\"Costa Rica\",\"El Salvador\",\"Guatemala\",\"Honduras\",\"Nicaragua\",\"Panama\"])]"
   ]
  },
  {
   "cell_type": "markdown",
   "id": "4441782a",
   "metadata": {},
   "source": [
    "## Hypothesis: If there is a finanical crisis in the United States, the US will increase its % of imports and exports with countires with the lowest GDP during the recession. "
   ]
  },
  {
   "cell_type": "markdown",
   "id": "c35ec2ce",
   "metadata": {},
   "source": [
    "##### Extreme values checks"
   ]
  },
  {
   "cell_type": "code",
   "execution_count": 24,
   "id": "3900692d",
   "metadata": {},
   "outputs": [
    {
     "name": "stderr",
     "output_type": "stream",
     "text": [
      "C:\\Users\\djval\\anaconda3\\lib\\site-packages\\seaborn\\distributions.py:2557: FutureWarning: `distplot` is a deprecated function and will be removed in a future version. Please adapt your code to use either `displot` (a figure-level function with similar flexibility) or `histplot` (an axes-level function for histograms).\n",
      "  warnings.warn(msg, FutureWarning)\n"
     ]
    },
    {
     "data": {
      "text/plain": [
       "<AxesSubplot:xlabel='IYR', ylabel='Density'>"
      ]
     },
     "execution_count": 24,
     "metadata": {},
     "output_type": "execute_result"
    },
    {
     "data": {
      "image/png": "[encoded data removed]",
      "text/plain": [
       "<Figure size 432x288 with 1 Axes>"
      ]
     },
     "metadata": {
      "needs_background": "light"
     },
     "output_type": "display_data"
    }
   ],
   "source": [
    "sns.distplot(df['IYR'], bins=25) # Shows extreme values"
   ]
  },
  {
   "cell_type": "code",
   "execution_count": 26,
   "id": "948dc364",
   "metadata": {},
   "outputs": [
    {
     "name": "stderr",
     "output_type": "stream",
     "text": [
      "C:\\Users\\djval\\anaconda3\\lib\\site-packages\\seaborn\\distributions.py:2557: FutureWarning: `distplot` is a deprecated function and will be removed in a future version. Please adapt your code to use either `displot` (a figure-level function with similar flexibility) or `histplot` (an axes-level function for histograms).\n",
      "  warnings.warn(msg, FutureWarning)\n"
     ]
    },
    {
     "data": {
      "text/plain": [
       "<AxesSubplot:xlabel='EYR', ylabel='Density'>"
      ]
     },
     "execution_count": 26,
     "metadata": {},
     "output_type": "execute_result"
    },
    {
     "data": {
      "image/png": "[encoded data removed]",
      "text/plain": [
       "<Figure size 432x288 with 1 Axes>"
      ]
     },
     "metadata": {
      "needs_background": "light"
     },
     "output_type": "display_data"
    }
   ],
   "source": [
    "sns.distplot(df['EYR'], bins=25) # Shows extreme values\n",
    "\n",
    "# Extreme outliers do not need to be removed. "
   ]
  },
  {
   "cell_type": "markdown",
   "id": "d76feb24",
   "metadata": {},
   "source": [
    "### 3. Data prep for regression analysis "
   ]
  },
  {
   "cell_type": "code",
   "execution_count": 27,
   "id": "712668a2",
   "metadata": {},
   "outputs": [
    {
     "data": {
      "image/png": "[encoded data removed]",
      "text/plain": [
       "<Figure size 432x288 with 1 Axes>"
      ]
     },
     "metadata": {
      "needs_background": "light"
     },
     "output_type": "display_data"
    }
   ],
   "source": [
    "# Create a scatterplot using matplotlib for another look at how the chosen variables plot against each other.\n",
    "\n",
    "df.plot(x = 'Unemployment_rate', y='IYR',style='o') # The style option creates a scatterplot; without it, we only have lines.\n",
    "plt.title('Unemployment_rate vs value of imports')  \n",
    "plt.xlabel('Unemployment_rate')  \n",
    "plt.ylabel('IYR')  \n",
    "plt.show()"
   ]
  },
  {
   "cell_type": "code",
   "execution_count": 28,
   "id": "f753f6ad",
   "metadata": {},
   "outputs": [
    {
     "data": {
      "image/png": "[encoded data removed]",
      "text/plain": [
       "<Figure size 432x288 with 1 Axes>"
      ]
     },
     "metadata": {
      "needs_background": "light"
     },
     "output_type": "display_data"
    }
   ],
   "source": [
    "# Create a scatterplot using matplotlib for another look at how the chosen variables plot against each other.\n",
    "\n",
    "df_south_central_am.plot(x = 'Unemployment_rate', y='IYR',style='o') # The style option creates a scatterplot; without it, we only have lines.\n",
    "plt.title('Unemployment_rate vs value of imports')  \n",
    "plt.xlabel('Unemployment_rate')  \n",
    "plt.ylabel('IYR')  \n",
    "plt.show()"
   ]
  },
  {
   "cell_type": "code",
   "execution_count": 29,
   "id": "d2f498cc",
   "metadata": {},
   "outputs": [
    {
     "data": {
      "image/png": "[encoded data removed]",
      "text/plain": [
       "<Figure size 432x288 with 1 Axes>"
      ]
     },
     "metadata": {
      "needs_background": "light"
     },
     "output_type": "display_data"
    }
   ],
   "source": [
    "# Create a scatterplot using matplotlib for another look at how the chosen variables plot against each other.\n",
    "\n",
    "df_south_central_am.plot(x = 'year', y='IYR',style='o') # The style option creates a scatterplot; without it, we only have lines.\n",
    "plt.title('Year vs value of imports')  \n",
    "plt.xlabel('Year')  \n",
    "plt.ylabel('IYR')  \n",
    "plt.show()"
   ]
  },
  {
   "cell_type": "code",
   "execution_count": 30,
   "id": "03256c0e",
   "metadata": {},
   "outputs": [
    {
     "data": {
      "image/png": "[encoded data removed]",
      "text/plain": [
       "<Figure size 432x288 with 1 Axes>"
      ]
     },
     "metadata": {
      "needs_background": "light"
     },
     "output_type": "display_data"
    }
   ],
   "source": [
    "# Create a scatterplot using matplotlib for another look at how the chosen variables plot against each other.\n",
    "\n",
    "df_south_central_am.plot(x = 'year', y='EYR',style='o') # The style option creates a scatterplot; without it, we only have lines.\n",
    "plt.title('Year vs value of exports')  \n",
    "plt.xlabel('Year')  \n",
    "plt.ylabel('EYR')  \n",
    "plt.show()"
   ]
  },
  {
   "cell_type": "code",
   "execution_count": 31,
   "id": "d6d379bf",
   "metadata": {
    "scrolled": true
   },
   "outputs": [
    {
     "data": {
      "image/png": "[encoded data removed]",
      "text/plain": [
       "<Figure size 432x288 with 1 Axes>"
      ]
     },
     "metadata": {
      "needs_background": "light"
     },
     "output_type": "display_data"
    }
   ],
   "source": [
    "# Create a scatterplot using matplotlib for another look at how the chosen variables plot against each other.\n",
    "\n",
    "df_south_central_am.plot(x = 'Unemployment_rate', y='EYR',style='o') # The style option creates a scatterplot; without it, we only have lines.\n",
    "plt.title('Unemployment_rate vs value of emports')  \n",
    "plt.xlabel('Unemployment_rate')  \n",
    "plt.ylabel('EYR')  \n",
    "plt.show()"
   ]
  },
  {
   "cell_type": "code",
   "execution_count": 36,
   "id": "e1bcbaee",
   "metadata": {},
   "outputs": [
    {
     "data": {
      "image/png": "[encoded data removed]",
      "text/plain": [
       "<Figure size 432x288 with 1 Axes>"
      ]
     },
     "metadata": {
      "needs_background": "light"
     },
     "output_type": "display_data"
    }
   ],
   "source": [
    "# Create a scatterplot using matplotlib for another look at how the chosen variables plot against each other.\n",
    "\n",
    "df_south_central_am.plot(x = 'Unemployment_rate', y='IYR',style='o') # The style option creates a scatterplot; without it, we only have lines.\n",
    "plt.title('Unemployment_rate vs value of imports')  \n",
    "plt.xlabel('Unemployment_rate')  \n",
    "plt.ylabel('IYR')  \n",
    "plt.show()"
   ]
  },
  {
   "cell_type": "code",
   "execution_count": 32,
   "id": "a04cb134",
   "metadata": {},
   "outputs": [
    {
     "data": {
      "image/png": "[encoded data removed]",
      "text/plain": [
       "<Figure size 432x288 with 1 Axes>"
      ]
     },
     "metadata": {
      "needs_background": "light"
     },
     "output_type": "display_data"
    }
   ],
   "source": [
    "# Create a scatterplot using matplotlib for another look at how the chosen variables plot against each other.\n",
    "\n",
    "df_south_central_am.plot(x = 'Trade_deficit', y='EYR',style='o') # The style option creates a scatterplot; without it, we only have lines.\n",
    "plt.title('Trade_deficit vs value of emports')  \n",
    "plt.xlabel('Trade_deficit')  \n",
    "plt.ylabel('EYR')  \n",
    "plt.show()"
   ]
  },
  {
   "cell_type": "code",
   "execution_count": 33,
   "id": "7925fdb9",
   "metadata": {},
   "outputs": [
    {
     "data": {
      "image/png": "[encoded data removed]",
      "text/plain": [
       "<Figure size 432x288 with 1 Axes>"
      ]
     },
     "metadata": {
      "needs_background": "light"
     },
     "output_type": "display_data"
    }
   ],
   "source": [
    "# Create a scatterplot using matplotlib for another look at how the chosen variables plot against each other.\n",
    "\n",
    "df_south_central_am.plot(x = 'Trade_deficit', y='IYR',style='o') # The style option creates a scatterplot; without it, we only have lines.\n",
    "plt.title('Trade_deficit vs value of imports')  \n",
    "plt.xlabel('Trade_deficit')  \n",
    "plt.ylabel('IYR')  \n",
    "plt.show()"
   ]
  },
  {
   "cell_type": "code",
   "execution_count": 35,
   "id": "1e468162",
   "metadata": {},
   "outputs": [
    {
     "data": {
      "image/png": "[encoded data removed]",
      "text/plain": [
       "<Figure size 432x288 with 1 Axes>"
      ]
     },
     "metadata": {
      "needs_background": "light"
     },
     "output_type": "display_data"
    }
   ],
   "source": [
    "# Create a scatterplot using matplotlib for another look at how the chosen variables plot against each other.\n",
    "\n",
    "df_south_central_am.plot(x = 'Unemployment_rate', y='Trade_deficit',style='o') # The style option creates a scatterplot; without it, we only have lines.\n",
    "plt.title('Unemployment_rate vs Trade_deficit')  \n",
    "plt.xlabel('Unemployment_rate')  \n",
    "plt.ylabel('Trade_deficit')  \n",
    "plt.show()"
   ]
  },
  {
   "cell_type": "markdown",
   "id": "aa8efe18",
   "metadata": {},
   "source": [
    "## Hypothesis: If there is a finanical crisis in the United States, the US will increase its % of imports and exports with countires with the lowest GDP during the recession. "
   ]
  },
  {
   "cell_type": "markdown",
   "id": "37c8b642",
   "metadata": {},
   "source": [
    "# Reshape the variables into NumPy arrays and put them into separate objects.\n"
   ]
  },
  {
   "cell_type": "code",
   "execution_count": 48,
   "id": "e8d0150e",
   "metadata": {},
   "outputs": [],
   "source": [
    "X = df['year'].values.reshape(-1,1)\n",
    "y = df['EYR'].values.reshape(-1,1)"
   ]
  },
  {
   "cell_type": "code",
   "execution_count": 50,
   "id": "66e74329",
   "metadata": {},
   "outputs": [
    {
     "data": {
      "text/plain": [
       "array([[2021],\n",
       "       [2021],\n",
       "       [2018],\n",
       "       ...,\n",
       "       [2001],\n",
       "       [2002],\n",
       "       [2003]], dtype=int64)"
      ]
     },
     "execution_count": 50,
     "metadata": {},
     "output_type": "execute_result"
    }
   ],
   "source": [
    "X"
   ]
  },
  {
   "cell_type": "code",
   "execution_count": 52,
   "id": "5d7356f3",
   "metadata": {},
   "outputs": [
    {
     "data": {
      "text/plain": [
       "array([[1594693.68 ],\n",
       "       [1595320.535],\n",
       "       [1665786.887],\n",
       "       ...,\n",
       "       [      0.   ],\n",
       "       [      0.   ],\n",
       "       [      0.   ]])"
      ]
     },
     "execution_count": 52,
     "metadata": {},
     "output_type": "execute_result"
    }
   ],
   "source": [
    "y"
   ]
  },
  {
   "cell_type": "code",
   "execution_count": 53,
   "id": "a76316f7",
   "metadata": {},
   "outputs": [],
   "source": [
    "# Split data into a training set and a test set.\n",
    "\n",
    "X_train, X_test, y_train, y_test = train_test_split(X, y, test_size=0.3, random_state=0)"
   ]
  },
  {
   "cell_type": "markdown",
   "id": "6607d39b",
   "metadata": {},
   "source": [
    "### 4. Regression analysis"
   ]
  },
  {
   "cell_type": "code",
   "execution_count": 54,
   "id": "75ae4091",
   "metadata": {},
   "outputs": [],
   "source": [
    "# Create a regression object.\n",
    "\n",
    "regression = LinearRegression()  # This is the regression object, which will be fit onto the training set."
   ]
  },
  {
   "cell_type": "code",
   "execution_count": 55,
   "id": "aed9caee",
   "metadata": {},
   "outputs": [
    {
     "data": {
      "text/plain": [
       "LinearRegression()"
      ]
     },
     "execution_count": 55,
     "metadata": {},
     "output_type": "execute_result"
    }
   ],
   "source": [
    "# Fit the regression object onto the training set.\n",
    "\n",
    "regression.fit(X_train, y_train)"
   ]
  },
  {
   "cell_type": "code",
   "execution_count": 56,
   "id": "952d6d42",
   "metadata": {},
   "outputs": [],
   "source": [
    "# Predict the values of y using X.\n",
    "\n",
    "y_predicted = regression.predict(X_test)"
   ]
  },
  {
   "cell_type": "code",
   "execution_count": 57,
   "id": "5eff2579",
   "metadata": {},
   "outputs": [
    {
     "data": {
      "image/png": "[encoded data removed]",
      "text/plain": [
       "<Figure size 432x288 with 1 Axes>"
      ]
     },
     "metadata": {
      "needs_background": "light"
     },
     "output_type": "display_data"
    }
   ],
   "source": [
    "# Create a plot that shows the regression line from the model on the test set.\n",
    "\n",
    "plot_test = plt\n",
    "plot_test.scatter(X_test, y_test, color='gray', s = 15)\n",
    "plot_test.plot(X_test, y_predicted, color='red', linewidth =3)\n",
    "plot_test.title('Year vs value of exports (Test set)')\n",
    "plot_test.xlabel('Year')\n",
    "plot_test.ylabel('EYR')\n",
    "plot_test.show()"
   ]
  },
  {
   "cell_type": "code",
   "execution_count": 58,
   "id": "ed3fd4b5",
   "metadata": {},
   "outputs": [],
   "source": [
    "# Create objects that contain the model summary statistics.\n",
    "\n",
    "rmse = mean_squared_error(y_test, y_predicted) # This is the mean squared error\n",
    "r2 = r2_score(y_test, y_predicted) # This is the R2 score. "
   ]
  },
  {
   "cell_type": "code",
   "execution_count": 59,
   "id": "07ef8f36",
   "metadata": {},
   "outputs": [
    {
     "name": "stdout",
     "output_type": "stream",
     "text": [
      "Slope: [[724.85115292]]\n",
      "Mean squared error:  14995125606.925066\n",
      "R2 score:  0.003931223274442508\n"
     ]
    }
   ],
   "source": [
    "# Print the model summary statistics. This is where you evaluate the performance of the model.\n",
    "\n",
    "print('Slope:' ,regression.coef_)\n",
    "print('Mean squared error: ', rmse)\n",
    "print('R2 score: ', r2)"
   ]
  },
  {
   "cell_type": "code",
   "execution_count": 60,
   "id": "70f3ad3f",
   "metadata": {},
   "outputs": [
    {
     "data": {
      "text/plain": [
       "array([[14993.9444179 ],\n",
       "       [20792.75364126],\n",
       "       [28766.11632339],\n",
       "       ...,\n",
       "       [14993.9444179 ],\n",
       "       [22967.30710003],\n",
       "       [10644.83750038]])"
      ]
     },
     "execution_count": 60,
     "metadata": {},
     "output_type": "execute_result"
    }
   ],
   "source": [
    "y_predicted"
   ]
  },
  {
   "cell_type": "code",
   "execution_count": 61,
   "id": "8871acc2",
   "metadata": {},
   "outputs": [
    {
     "data": {
      "text/html": [
       "<div>\n",
       "<style scoped>\n",
       "    .dataframe tbody tr th:only-of-type {\n",
       "        vertical-align: middle;\n",
       "    }\n",
       "\n",
       "    .dataframe tbody tr th {\n",
       "        vertical-align: top;\n",
       "    }\n",
       "\n",
       "    .dataframe thead th {\n",
       "        text-align: right;\n",
       "    }\n",
       "</style>\n",
       "<table border=\"1\" class=\"dataframe\">\n",
       "  <thead>\n",
       "    <tr style=\"text-align: right;\">\n",
       "      <th></th>\n",
       "      <th>Actual</th>\n",
       "      <th>Predicted</th>\n",
       "    </tr>\n",
       "  </thead>\n",
       "  <tbody>\n",
       "    <tr>\n",
       "      <th>0</th>\n",
       "      <td>1507.000000</td>\n",
       "      <td>14993.944418</td>\n",
       "    </tr>\n",
       "    <tr>\n",
       "      <th>1</th>\n",
       "      <td>12484.248430</td>\n",
       "      <td>20792.753641</td>\n",
       "    </tr>\n",
       "    <tr>\n",
       "      <th>2</th>\n",
       "      <td>105.232004</td>\n",
       "      <td>28766.116323</td>\n",
       "    </tr>\n",
       "    <tr>\n",
       "      <th>3</th>\n",
       "      <td>14.544129</td>\n",
       "      <td>24417.009406</td>\n",
       "    </tr>\n",
       "    <tr>\n",
       "      <th>4</th>\n",
       "      <td>1618.327436</td>\n",
       "      <td>28766.116323</td>\n",
       "    </tr>\n",
       "    <tr>\n",
       "      <th>5</th>\n",
       "      <td>231223.038400</td>\n",
       "      <td>29490.967476</td>\n",
       "    </tr>\n",
       "    <tr>\n",
       "      <th>6</th>\n",
       "      <td>120247.580100</td>\n",
       "      <td>18618.200183</td>\n",
       "    </tr>\n",
       "    <tr>\n",
       "      <th>7</th>\n",
       "      <td>169.325571</td>\n",
       "      <td>20792.753641</td>\n",
       "    </tr>\n",
       "    <tr>\n",
       "      <th>8</th>\n",
       "      <td>173062.600500</td>\n",
       "      <td>17168.497877</td>\n",
       "    </tr>\n",
       "    <tr>\n",
       "      <th>9</th>\n",
       "      <td>41.800000</td>\n",
       "      <td>14269.093265</td>\n",
       "    </tr>\n",
       "    <tr>\n",
       "      <th>10</th>\n",
       "      <td>225.884184</td>\n",
       "      <td>17168.497877</td>\n",
       "    </tr>\n",
       "    <tr>\n",
       "      <th>11</th>\n",
       "      <td>18.163831</td>\n",
       "      <td>17893.349030</td>\n",
       "    </tr>\n",
       "    <tr>\n",
       "      <th>12</th>\n",
       "      <td>621.031876</td>\n",
       "      <td>29490.967476</td>\n",
       "    </tr>\n",
       "    <tr>\n",
       "      <th>13</th>\n",
       "      <td>19497.351710</td>\n",
       "      <td>28041.265170</td>\n",
       "    </tr>\n",
       "    <tr>\n",
       "      <th>14</th>\n",
       "      <td>631.352383</td>\n",
       "      <td>25866.711712</td>\n",
       "    </tr>\n",
       "    <tr>\n",
       "      <th>15</th>\n",
       "      <td>13581.300000</td>\n",
       "      <td>10644.837500</td>\n",
       "    </tr>\n",
       "    <tr>\n",
       "      <th>16</th>\n",
       "      <td>0.172932</td>\n",
       "      <td>29490.967476</td>\n",
       "    </tr>\n",
       "    <tr>\n",
       "      <th>17</th>\n",
       "      <td>11.699649</td>\n",
       "      <td>17893.349030</td>\n",
       "    </tr>\n",
       "    <tr>\n",
       "      <th>18</th>\n",
       "      <td>11.343178</td>\n",
       "      <td>28766.116323</td>\n",
       "    </tr>\n",
       "    <tr>\n",
       "      <th>19</th>\n",
       "      <td>507.981144</td>\n",
       "      <td>22242.455947</td>\n",
       "    </tr>\n",
       "    <tr>\n",
       "      <th>20</th>\n",
       "      <td>0.771748</td>\n",
       "      <td>23692.158253</td>\n",
       "    </tr>\n",
       "    <tr>\n",
       "      <th>21</th>\n",
       "      <td>1668.613117</td>\n",
       "      <td>17893.349030</td>\n",
       "    </tr>\n",
       "    <tr>\n",
       "      <th>22</th>\n",
       "      <td>16.711327</td>\n",
       "      <td>26591.562865</td>\n",
       "    </tr>\n",
       "    <tr>\n",
       "      <th>23</th>\n",
       "      <td>10695.291380</td>\n",
       "      <td>23692.158253</td>\n",
       "    </tr>\n",
       "    <tr>\n",
       "      <th>24</th>\n",
       "      <td>0.716169</td>\n",
       "      <td>22967.307100</td>\n",
       "    </tr>\n",
       "    <tr>\n",
       "      <th>25</th>\n",
       "      <td>5.042480</td>\n",
       "      <td>20792.753641</td>\n",
       "    </tr>\n",
       "    <tr>\n",
       "      <th>26</th>\n",
       "      <td>351.608971</td>\n",
       "      <td>23692.158253</td>\n",
       "    </tr>\n",
       "    <tr>\n",
       "      <th>27</th>\n",
       "      <td>21.219489</td>\n",
       "      <td>25141.860559</td>\n",
       "    </tr>\n",
       "    <tr>\n",
       "      <th>28</th>\n",
       "      <td>9002.343708</td>\n",
       "      <td>19343.051335</td>\n",
       "    </tr>\n",
       "    <tr>\n",
       "      <th>29</th>\n",
       "      <td>523.300000</td>\n",
       "      <td>14993.944418</td>\n",
       "    </tr>\n",
       "  </tbody>\n",
       "</table>\n",
       "</div>"
      ],
      "text/plain": [
       "           Actual     Predicted\n",
       "0     1507.000000  14993.944418\n",
       "1    12484.248430  20792.753641\n",
       "2      105.232004  28766.116323\n",
       "3       14.544129  24417.009406\n",
       "4     1618.327436  28766.116323\n",
       "5   231223.038400  29490.967476\n",
       "6   120247.580100  18618.200183\n",
       "7      169.325571  20792.753641\n",
       "8   173062.600500  17168.497877\n",
       "9       41.800000  14269.093265\n",
       "10     225.884184  17168.497877\n",
       "11      18.163831  17893.349030\n",
       "12     621.031876  29490.967476\n",
       "13   19497.351710  28041.265170\n",
       "14     631.352383  25866.711712\n",
       "15   13581.300000  10644.837500\n",
       "16       0.172932  29490.967476\n",
       "17      11.699649  17893.349030\n",
       "18      11.343178  28766.116323\n",
       "19     507.981144  22242.455947\n",
       "20       0.771748  23692.158253\n",
       "21    1668.613117  17893.349030\n",
       "22      16.711327  26591.562865\n",
       "23   10695.291380  23692.158253\n",
       "24       0.716169  22967.307100\n",
       "25       5.042480  20792.753641\n",
       "26     351.608971  23692.158253\n",
       "27      21.219489  25141.860559\n",
       "28    9002.343708  19343.051335\n",
       "29     523.300000  14993.944418"
      ]
     },
     "execution_count": 61,
     "metadata": {},
     "output_type": "execute_result"
    }
   ],
   "source": [
    "# Create a dataframe comparing the actual and predicted values of y.\n",
    "\n",
    "data = pd.DataFrame({'Actual': y_test.flatten(), 'Predicted': y_predicted.flatten()})\n",
    "data.head(30)"
   ]
  },
  {
   "cell_type": "markdown",
   "id": "1a80ea23",
   "metadata": {},
   "source": [
    "##### Compare how the regression fits the training set"
   ]
  },
  {
   "cell_type": "code",
   "execution_count": 62,
   "id": "2778c34f",
   "metadata": {},
   "outputs": [],
   "source": [
    "# Predict.\n",
    "\n",
    "y_predicted_train = regression.predict(X_train) # This is predicting X_train!"
   ]
  },
  {
   "cell_type": "code",
   "execution_count": 63,
   "id": "f45bb5cd",
   "metadata": {},
   "outputs": [],
   "source": [
    "rmse = mean_squared_error(y_train, y_predicted_train)\n",
    "r2 = r2_score(y_train, y_predicted_train)"
   ]
  },
  {
   "cell_type": "code",
   "execution_count": 64,
   "id": "2cc60704",
   "metadata": {},
   "outputs": [
    {
     "name": "stdout",
     "output_type": "stream",
     "text": [
      "Slope: [[724.85115292]]\n",
      "Mean squared error:  10888858416.882074\n",
      "R2 score:  0.004497830640193934\n"
     ]
    }
   ],
   "source": [
    "print('Slope:' ,regression.coef_)\n",
    "print('Mean squared error: ', rmse)\n",
    "print('R2 score: ', r2)"
   ]
  },
  {
   "cell_type": "code",
   "execution_count": 65,
   "id": "dcacdb9e",
   "metadata": {},
   "outputs": [
    {
     "data": {
      "image/png": "[encoded data removed]",
      "text/plain": [
       "<Figure size 432x288 with 1 Axes>"
      ]
     },
     "metadata": {
      "needs_background": "light"
     },
     "output_type": "display_data"
    }
   ],
   "source": [
    "# Visualizing the training set results.\n",
    "\n",
    "plot_test = plt\n",
    "plot_test.scatter(X_train, y_train, color='green', s = 15)\n",
    "plot_test.plot(X_train, y_predicted_train, color='red', linewidth =3)\n",
    "plot_test.title('Year vs value of exports (Test set)')\n",
    "plot_test.xlabel('year')\n",
    "plot_test.ylabel('EYR')\n",
    "plot_test.show()"
   ]
  },
  {
   "cell_type": "markdown",
   "id": "39724c22",
   "metadata": {},
   "source": [
    "My thoughts is that this model is a poor fit as the R2 score is a 0.00449. I believe at this point, I need to source more data to show a relations ship to a financial crisis in the US and the changes in imports and exports with South and Central American and Africa. "
   ]
  }
 ],
 "metadata": {
  "kernelspec": {
   "display_name": "Python 3",
   "language": "python",
   "name": "python3"
  },
  "language_info": {
   "codemirror_mode": {
    "name": "ipython",
    "version": 3
   },
   "file_extension": ".py",
   "mimetype": "text/x-python",
   "name": "python",
   "nbconvert_exporter": "python",
   "pygments_lexer": "ipython3",
   "version": "3.8.8"
  }
 },
 "nbformat": 4,
 "nbformat_minor": 5
}
